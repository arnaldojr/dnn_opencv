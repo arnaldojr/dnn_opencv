{
 "cells": [
  {
   "cell_type": "code",
   "execution_count": 56,
   "id": "divided-retreat",
   "metadata": {},
   "outputs": [],
   "source": [
    "import cv2\n",
    "import numpy as np"
   ]
  },
  {
   "cell_type": "code",
   "execution_count": 59,
   "id": "unique-siemens",
   "metadata": {},
   "outputs": [],
   "source": [
    "# read the ImageNet class names\n",
    "with open('./src/classification_classes_ILSVRC2012.txt', 'r') as f:\n",
    "    image_net_names = f.read().split('\\n')\n",
    "# final class names (just the first word of the many ImageNet names for one image)\n",
    "class_names = [name.split(',')[0] for name in image_net_names]\n"
   ]
  },
  {
   "cell_type": "code",
   "execution_count": 60,
   "id": "creative-creature",
   "metadata": {},
   "outputs": [],
   "source": [
    "# load the neural network model\n",
    "model = cv2.dnn.readNet(model='./src/DenseNet_121.caffemodel', config='./src/DenseNet_121.prototxt', framework='Caffe')"
   ]
  },
  {
   "cell_type": "code",
   "execution_count": 63,
   "id": "circular-shipping",
   "metadata": {},
   "outputs": [
    {
     "data": {
      "text/plain": [
       "-1"
      ]
     },
     "execution_count": 63,
     "metadata": {},
     "output_type": "execute_result"
    }
   ],
   "source": [
    "# load the image from disk\n",
    "image = cv2.imread('./img/dog.jpg')\n",
    "image = cv2.resize(image, dsize= None,fx = 0.5, fy = 0.5, interpolation = cv2.INTER_AREA)\n",
    "# create blob from image\n",
    "blob = cv2.dnn.blobFromImage(image=image, scalefactor=0.01, size=(224, 224), mean=(104, 117, 123))\n",
    "\n",
    "cv2.imshow('Image', image)\n",
    "cv2.waitKey(0)"
   ]
  },
  {
   "cell_type": "code",
   "execution_count": 64,
   "id": "tight-titanium",
   "metadata": {},
   "outputs": [
    {
     "name": "stdout",
     "output_type": "stream",
     "text": [
      "(1, 3, 224, 224)\n",
      "(640, 480, 3)\n"
     ]
    }
   ],
   "source": [
    "print (blob.shape);\n",
    "print(image.shape)"
   ]
  },
  {
   "cell_type": "code",
   "execution_count": 65,
   "id": "intelligent-california",
   "metadata": {},
   "outputs": [],
   "source": [
    "# set the input blob for the neural network\n",
    "model.setInput(blob)\n",
    "# forward pass image blog through the model\n",
    "outputs = model.forward()\n"
   ]
  },
  {
   "cell_type": "code",
   "execution_count": 66,
   "id": "prostate-dance",
   "metadata": {},
   "outputs": [
    {
     "name": "stdout",
     "output_type": "stream",
     "text": [
      "(1, 1000, 1, 1)\n"
     ]
    }
   ],
   "source": [
    "print(outputs.shape)"
   ]
  },
  {
   "cell_type": "code",
   "execution_count": 67,
   "id": "ongoing-mouth",
   "metadata": {},
   "outputs": [
    {
     "data": {
      "text/plain": [
       "-1"
      ]
     },
     "execution_count": 67,
     "metadata": {},
     "output_type": "execute_result"
    }
   ],
   "source": [
    "final_outputs = outputs[0]\n",
    "# make all the outputs 1D\n",
    "final_outputs = final_outputs.reshape(1000, 1)\n",
    "# get the class label\n",
    "label_id = np.argmax(final_outputs)\n",
    "\n",
    "# convert the output scores to softmax probabilities\n",
    "probs = np.exp(final_outputs) / np.sum(np.exp(final_outputs))\n",
    "# get the final highest probability\n",
    "final_prob = np.max(probs) * 100.\n",
    "\n",
    "# map the max confidence to the class label names\n",
    "out_name = class_names[label_id]\n",
    "out_text = f\"{out_name}, {final_prob:.3f}\"\n",
    "# put the class name text on top of the image\n",
    "cv2.putText(image, out_text, (25, 50), cv2.FONT_HERSHEY_SIMPLEX, 1, (0, 255, 0), 2)\n",
    "cv2.imshow('Image', image)\n",
    "cv2.waitKey(0)\n",
    "#cv2.imwrite('result_image.jpg', image)\n"
   ]
  },
  {
   "cell_type": "code",
   "execution_count": null,
   "id": "searching-rabbit",
   "metadata": {},
   "outputs": [],
   "source": []
  }
 ],
 "metadata": {
  "kernelspec": {
   "display_name": "Python 3",
   "language": "python",
   "name": "python3"
  },
  "language_info": {
   "codemirror_mode": {
    "name": "ipython",
    "version": 3
   },
   "file_extension": ".py",
   "mimetype": "text/x-python",
   "name": "python",
   "nbconvert_exporter": "python",
   "pygments_lexer": "ipython3",
   "version": "3.9.5"
  }
 },
 "nbformat": 4,
 "nbformat_minor": 5
}
