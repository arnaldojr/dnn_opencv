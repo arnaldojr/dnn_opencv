{
 "cells": [
  {
   "cell_type": "code",
   "execution_count": 1,
   "id": "extreme-currency",
   "metadata": {},
   "outputs": [],
   "source": [
    "import cv2\n",
    "import numpy as np"
   ]
  },
  {
   "cell_type": "code",
   "execution_count": 2,
   "id": "native-monaco",
   "metadata": {},
   "outputs": [
    {
     "name": "stdout",
     "output_type": "stream",
     "text": [
      "['person', 'bicycle', 'car', 'motorcycle', 'airplane', 'bus', 'train', 'truck', 'boat', 'traffic light', 'fire hydrant', 'street sign', 'stop sign', 'parking meter', 'bench', 'bird', 'cat', 'dog', 'horse', 'sheep', 'cow', 'elephant', 'bear', 'zebra', 'giraffe', 'hat', 'backpack', 'umbrella', 'shoe', 'eye glasses', 'handbag', 'tie', 'suitcase', 'frisbee', 'skis', 'snowboard', 'sports ball', 'kite', 'baseball bat', 'baseball glove', 'skateboard', 'surfboard', 'tennis racket', 'bottle', 'plate', 'wine glass', 'cup', 'fork', 'knife', 'spoon', 'bowl', 'banana', 'apple', 'sandwich', 'orange', 'broccoli', 'carrot', 'hot dog', 'pizza', 'donut', 'cake', 'chair', 'couch', 'potted plant', 'bed', 'mirror', 'dining table', 'window', 'desk', 'toilet', 'door', 'tv', 'laptop', 'mouse', 'remote', 'keyboard', 'cell phone', 'microwave', 'oven', 'toaster', 'sink', 'refrigerator', 'blender', 'book', 'clock', 'vase', 'scissors', 'teddy bear', 'hair drier', 'toothbrush', '']\n"
     ]
    }
   ],
   "source": [
    "# load the COCO class names\n",
    "with open('./src/object_detection_classes_coco.txt', 'r') as f:\n",
    "    class_names = f.read().split('\\n')\n",
    "    \n",
    "# get a different color array for each of the classes\n",
    "COLORS = np.random.uniform(0, 255, size=(len(class_names), 3))\n",
    "print(class_names)"
   ]
  },
  {
   "cell_type": "code",
   "execution_count": 3,
   "id": "united-peter",
   "metadata": {},
   "outputs": [],
   "source": [
    "# load the DNN model\n",
    "model = cv2.dnn.readNet(model='./src/frozen_inference_graph.pb',\n",
    "                        config='./src/mask_rcnn_inception_v2_coco_2018_01_28.pbtxt',framework='TensorFlow')"
   ]
  },
  {
   "cell_type": "code",
   "execution_count": 4,
   "id": "signed-working",
   "metadata": {},
   "outputs": [],
   "source": [
    "# read the image from disk\n",
    "image = cv2.imread('./img/cows.jpg')\n",
    "image_height, image_width, _ = image.shape\n",
    "# create blob from image\n",
    "blob = cv2.dnn.blobFromImage(image=image, swapRB=True, crop=False)\n",
    "# set the blob to the model\n",
    "model.setInput(blob)\n",
    "# forward pass through the model to carry out the detection\n",
    "output = model.forward([\"detection_out_final\", \"detection_masks\"])\n",
    "(boxes, masks) = output\n",
    "\n"
   ]
  },
  {
   "cell_type": "code",
   "execution_count": 5,
   "id": "natural-finding",
   "metadata": {},
   "outputs": [
    {
     "name": "stdout",
     "output_type": "stream",
     "text": [
      "100\n"
     ]
    }
   ],
   "source": [
    "print (len(masks))"
   ]
  },
  {
   "cell_type": "code",
   "execution_count": 6,
   "id": "average-shape",
   "metadata": {},
   "outputs": [],
   "source": [
    "def draw_boxes_masks(image, boxes, masks, labels, confidence=0.5, threshold=0.3):\n",
    "    clone = image.copy()\n",
    "    rois = []\n",
    "    for i in range(0, boxes.shape[2]):\n",
    "        classID = int(boxes[0, 0, i, 1])\n",
    "        score = boxes[0, 0, i, 2]\n",
    "        if score > confidence:\n",
    "            (H, W) = clone.shape[:2]\n",
    "            box = boxes[0, 0, i, 3:7] * np.array([W, H, W, H])\n",
    "\n",
    "            (startX, startY, endX, endY) = box.astype(\"int\")\n",
    "            boxW = endX - startX\n",
    "            boxH = endY - startY\n",
    "\n",
    "            mask = masks[i, classID]\n",
    "            mask = cv2.resize(mask, (boxW, boxH),interpolation=cv2.INTER_CUBIC)\n",
    "            mask = (mask > threshold)\n",
    "\n",
    "            roi = clone[startY:endY, startX:endX]\n",
    "\n",
    "            roi = roi[mask]\n",
    "\n",
    "            color = COLORS[classID]\n",
    "\n",
    "            blended = ((0.4 * color) + (0.6 * roi)).astype(\"uint8\")\n",
    "\n",
    "            clone[startY:endY, startX:endX][mask] = blended\n",
    "\n",
    "            color = [int(c) for c in color]\n",
    "            cv2.rectangle(clone, (startX, startY), (endX, endY), color, 2)\n",
    "\n",
    "            text = \"{}: {:.4f}\".format(labels[classID], score)\n",
    "            cv2.putText(clone, text, (startX, startY - 5),cv2.FONT_HERSHEY_SIMPLEX, 0.5, color, 2)\n",
    "    return clone"
   ]
  },
  {
   "cell_type": "code",
   "execution_count": 7,
   "id": "billion-greeting",
   "metadata": {},
   "outputs": [],
   "source": [
    "drawed_image = draw_boxes_masks(\n",
    "    image,\n",
    "    boxes,\n",
    "    masks,\n",
    "    class_names\n",
    ")"
   ]
  },
  {
   "cell_type": "code",
   "execution_count": 8,
   "id": "existing-junior",
   "metadata": {},
   "outputs": [
    {
     "data": {
      "text/plain": [
       "-1"
      ]
     },
     "execution_count": 8,
     "metadata": {},
     "output_type": "execute_result"
    }
   ],
   "source": [
    "cv2.imshow(\"Output\", drawed_image)\n",
    "cv2.waitKey(0)"
   ]
  },
  {
   "cell_type": "markdown",
   "id": "charitable-personality",
   "metadata": {},
   "source": [
    "video"
   ]
  },
  {
   "cell_type": "code",
   "execution_count": 9,
   "id": "south-manitoba",
   "metadata": {},
   "outputs": [],
   "source": [
    "# import the necessary packages\n",
    "\n",
    "import cv2\n",
    "import numpy as np\n",
    "import time\n",
    "\n",
    "# load the COCO class names\n",
    "with open('./src/object_detection_classes_coco.txt', 'r') as f:\n",
    "    class_names = f.read().split('\\n')\n",
    "    \n",
    "# get a different color array for each of the classes\n",
    "COLORS = np.random.uniform(0, 255, size=(len(class_names), 3))\n",
    "\n",
    "# load the DNN model\n",
    "model = cv2.dnn.readNet(model='./src/frozen_inference_graph.pb',\n",
    "                        config='./src/mask_rcnn_inception_v2_coco_2018_01_28.pbtxt',framework='TensorFlow')\n",
    "\n",
    "\n",
    "\n",
    "vs = cv2.VideoCapture('./video/vtest.avi')\n",
    "\n",
    "while True:\n",
    "    (grabbed, frame) = vs.read()\n",
    "    if not grabbed:\n",
    "        break\n",
    "\n",
    "    start = time.time()\n",
    "    blob = cv2.dnn.blobFromImage(image=frame, swapRB=True, crop=False)\n",
    "    # set the blob to the model\n",
    "    model.setInput(blob)\n",
    "    # forward pass through the model to carry out the detection\n",
    "    output = model.forward([\"detection_out_final\", \"detection_masks\"])\n",
    "    (boxes, masks) = output\n",
    "    end = time.time()\n",
    "\n",
    "    drawed_image = draw_boxes_masks(\n",
    "        frame,\n",
    "        boxes,\n",
    "        masks,\n",
    "        class_names\n",
    "    )\n",
    "\n",
    "    cv2.imshow('image', drawed_image)\n",
    "\n",
    "    if cv2.waitKey(10) & 0xFF == ord('q'):\n",
    "        break \n",
    "vs.release()\n",
    "cv2.destroyAllWindows()"
   ]
  },
  {
   "cell_type": "code",
   "execution_count": null,
   "id": "mineral-compression",
   "metadata": {},
   "outputs": [],
   "source": []
  }
 ],
 "metadata": {
  "kernelspec": {
   "display_name": "Python 3",
   "language": "python",
   "name": "python3"
  },
  "language_info": {
   "codemirror_mode": {
    "name": "ipython",
    "version": 3
   },
   "file_extension": ".py",
   "mimetype": "text/x-python",
   "name": "python",
   "nbconvert_exporter": "python",
   "pygments_lexer": "ipython3",
   "version": "3.9.5"
  }
 },
 "nbformat": 4,
 "nbformat_minor": 5
}
